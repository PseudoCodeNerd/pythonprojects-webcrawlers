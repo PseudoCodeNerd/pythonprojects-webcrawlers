{
 "cells": [
  {
   "cell_type": "markdown",
   "metadata": {},
   "source": [
    "# Scraping Web Pages with Beautiful Soup and Python \n",
    "\n",
    "### DISCLAIMER: The website crawled in a major part of this notebook contains strong language. Programmer's discretion is advised."
   ]
  },
  {
   "cell_type": "markdown",
   "metadata": {},
   "source": [
    "# 1. Working with Web Data Using Requests and Beautiful Soup \n",
    "## Collecting a Web Page with Requests"
   ]
  },
  {
   "cell_type": "code",
   "execution_count": 1,
   "metadata": {},
   "outputs": [],
   "source": [
    "import requests\n",
    "url = 'https://motherfuckingwebsite.com/'\n"
   ]
  },
  {
   "cell_type": "markdown",
   "metadata": {},
   "source": [
    "Next, we can assign the result of a request of that page to the variable page with the <code>request.get()</code> method. We pass the page’s URL (that was assigned to the url variable) to that method."
   ]
  },
  {
   "cell_type": "code",
   "execution_count": 4,
   "metadata": {},
   "outputs": [],
   "source": [
    "page_content = requests.get(url)"
   ]
  },
  {
   "cell_type": "code",
   "execution_count": 5,
   "metadata": {},
   "outputs": [
    {
     "data": {
      "text/plain": [
       "200"
      ]
     },
     "execution_count": 5,
     "metadata": {},
     "output_type": "execute_result"
    }
   ],
   "source": [
    "page_content.status_code"
   ]
  },
  {
   "cell_type": "markdown",
   "metadata": {},
   "source": [
    "The returned code of 200 tells us that the page downloaded successfully. Codes that begin with the number 2 generally indicate success, while codes that begin with a 4 or 5 indicate that an error occurred.<br><br>\n",
    "In order to work with web data, we’re going to want to access the text-based content of web files. We can read the content of the server’s response with <code>page.text</code>"
   ]
  },
  {
   "cell_type": "code",
   "execution_count": 6,
   "metadata": {},
   "outputs": [
    {
     "data": {
      "text/plain": [
       "'<!DOCTYPE html>\\n<html>\\n<head>\\n    <meta charset=\"utf-8\">\\n    <meta name=\"viewport\" content=\"width=device-width, initial-scale=1\">\\n    \\n    <!-- FOR THE CURIOUS: This site was made by @thebarrytone. Don\\'t tell my mom. -->\\n    \\n    <title>Motherfucking Website</title>\\n</head>\\n\\n<body>\\n    <header>\\n        <h1>This is a motherfucking website.</h1>\\n        <aside>And it\\'s fucking perfect.</aside>\\n    </header>\\n        \\n        <h2>Seriously, what the fuck else do you want?</h2>\\n        \\n        <p>You probably build websites and think your shit is special. You think your 13 megabyte parallax-ative home page is going to get you some fucking Awwward banner you can glue to the top corner of your site. You think your 40-pound jQuery file and 83 polyfills give IE7 a boner because it finally has box-shadow. Wrong, motherfucker. Let me describe your perfect-ass website:</p>\\n        \\n        <ul>\\n            <li>Shit\\'s lightweight and loads fast</li>\\n            <li>Fits on all your shitty screens</li>\\n            <li>Looks the same in all your shitty browsers</li>\\n            <li>The motherfucker\\'s accessible to every asshole that visits your site</li>\\n            <li>Shit\\'s legible and gets your fucking point across (if you had one instead of just 5mb pics of hipsters drinking coffee)</li>\\n        </ul>\\n        \\n        <h3>Well guess what, motherfucker:</h3>\\n        \\n        <p>You. Are. Over-designing. Look at this shit. It\\'s a motherfucking website. Why the fuck do you need to animate a fucking trendy-ass banner flag when I hover over that useless piece of shit? You spent hours on it and added 80 kilobytes to your fucking site, and some motherfucker jabbing at it on their iPad with fat sausage fingers will never see that shit. Not to mention blind people will never see that shit, but they don\\'t see any of your shitty shit.</p>\\n        \\n        <p>You never knew it, but this is your perfect website. Here\\'s why.</p>\\n        \\n        <h2>It\\'s fucking lightweight</h2>\\n        \\n        <p>This entire page weighs less than the gradient-meshed facebook logo on your fucking Wordpress site. Did you seriously load 100kb of jQuery UI just so you could animate the fucking background color of a div? You loaded all 7 fontfaces of a shitty webfont just so you could say \"Hi.\" at 100px height at the beginning of your site? You piece of shit.</p>\\n        \\n        <h2>It\\'s responsive</h2>\\n        \\n        <p>You dumbass. You thought you needed media queries to be responsive, but no. Responsive means that it responds to whatever motherfucking screensize it\\'s viewed on. This site doesn\\'t care if you\\'re on an iMac or a motherfucking Tamagotchi.</p>\\n        \\n        <h2>It fucking works</h2>\\n        \\n        <p>Look at this shit. You can read it ... that is, if you can read, motherfucker. It makes sense. It has motherfucking hierarchy. It\\'s using HTML5 tags so you and your bitch-ass browser know what the fuck\\'s in this fucking site. That\\'s semantics, motherfucker.</p>\\n        \\n        <p>It has content on the fucking screen. Your site has three bylines and link to your dribbble account, but you spread it over 7 full screens and make me click some bobbing button to show me how cool the jQuery ScrollTo plugin is.</p>\\n        \\n        <p>Cross-browser compatibility? Load this motherfucker in IE6. I fucking dare you.</p>\\n        \\n        <h2>This is a website. Look at it.  You\\'ve never seen one before.</h2>\\n        \\n        <p>Like the man who\\'s never grown out his beard has no idea what his true natural state is, you have no fucking idea what a website is. All you have ever seen are shitty skeuomorphic bastardizations of what should be text communicating a fucking message. This is a real, naked website. Look at it. It\\'s fucking beautiful.</p>\\n        \\n        <h3>Yes, this is fucking satire, you fuck</h3>\\n        \\n        <p>I\\'m not actually saying your shitty site should look like this. What I\\'m saying is that all the problems we have with websites are <strong>ones we create ourselves</strong>. Websites aren\\'t broken by default, they are functional, high-performing, and accessible. You break them. You son-of-a-bitch.</p>\\n        \\n        <blockquote cite=\"https://www.vitsoe.com/us/about/good-design\">\"Good design is as little design as possible.\"<br>\\n            - some German motherfucker\\n        </blockquote>\\n    \\n    <hr>\\n    \\n    <h2>Epilogue</h2>\\n    <p>From the philosophies expressed (poorly) above, <a href=\"http://txti.es\">txti</a> was created. You should try it today to make your own motherfucking websites.</p>\\n    \\n    <!-- yes, I know...wanna fight about it? -->\\n    <script>\\n      (function(i,s,o,g,r,a,m){i[\\'GoogleAnalyticsObject\\']=r;i[r]=i[r]||function(){\\n      (i[r].q=i[r].q||[]).push(arguments)},i[r].l=1*new Date();a=s.createElement(o),\\n      m=s.getElementsByTagName(o)[0];a.async=1;a.src=g;m.parentNode.insertBefore(a,m)\\n      })(window,document,\\'script\\',\\'//www.google-analytics.com/analytics.js\\',\\'ga\\');\\n    \\n      ga(\\'create\\', \\'UA-45956659-1\\', \\'motherfuckingwebsite.com\\');\\n      ga(\\'send\\', \\'pageview\\');\\n    </script>\\n    \\n</body>\\n</html>'"
      ]
     },
     "execution_count": 6,
     "metadata": {},
     "output_type": "execute_result"
    }
   ],
   "source": [
    "page_content.text"
   ]
  },
  {
   "cell_type": "markdown",
   "metadata": {},
   "source": [
    "We see that the full text of the page was printed out, with all of its HTML tags. However, it is difficult to read because there is not much spacing.<br><br>\n",
    "\n",
    "### Now, we want (and would) leverage the Beautiful Soup module to work with this textual data in a more human-friendly manner and readable manner."
   ]
  },
  {
   "cell_type": "markdown",
   "metadata": {},
   "source": [
    "## Stepping through a web page with BeautifulSoup"
   ]
  },
  {
   "cell_type": "markdown",
   "metadata": {},
   "source": [
    "The Beautiful Soup library creates a parse tree from parsed HTML and XML documents (including documents with non-closed tags or tag soup and other malformed markup). "
   ]
  },
  {
   "cell_type": "code",
   "execution_count": 8,
   "metadata": {},
   "outputs": [
    {
     "name": "stdout",
     "output_type": "stream",
     "text": [
      "<!DOCTYPE html>\n",
      "<html>\n",
      " <head>\n",
      "  <meta charset=\"utf-8\"/>\n",
      "  <meta content=\"width=device-width, initial-scale=1\" name=\"viewport\"/>\n",
      "  <!-- FOR THE CURIOUS: This site was made by @thebarrytone. Don't tell my mom. -->\n",
      "  <title>\n",
      "   Motherfucking Website\n",
      "  </title>\n",
      " </head>\n",
      " <body>\n",
      "  <header>\n",
      "   <h1>\n",
      "    This is a motherfucking website.\n",
      "   </h1>\n",
      "   <aside>\n",
      "    And it's fucking perfect.\n",
      "   </aside>\n",
      "  </header>\n",
      "  <h2>\n",
      "   Seriously, what the fuck else do you want?\n",
      "  </h2>\n",
      "  <p>\n",
      "   You probably build websites and think your shit is special. You think your 13 megabyte parallax-ative home page is going to get you some fucking Awwward banner you can glue to the top corner of your site. You think your 40-pound jQuery file and 83 polyfills give IE7 a boner because it finally has box-shadow. Wrong, motherfucker. Let me describe your perfect-ass website:\n",
      "  </p>\n",
      "  <ul>\n",
      "   <li>\n",
      "    Shit's lightweight and loads fast\n",
      "   </li>\n",
      "   <li>\n",
      "    Fits on all your shitty screens\n",
      "   </li>\n",
      "   <li>\n",
      "    Looks the same in all your shitty browsers\n",
      "   </li>\n",
      "   <li>\n",
      "    The motherfucker's accessible to every asshole that visits your site\n",
      "   </li>\n",
      "   <li>\n",
      "    Shit's legible and gets your fucking point across (if you had one instead of just 5mb pics of hipsters drinking coffee)\n",
      "   </li>\n",
      "  </ul>\n",
      "  <h3>\n",
      "   Well guess what, motherfucker:\n",
      "  </h3>\n",
      "  <p>\n",
      "   You. Are. Over-designing. Look at this shit. It's a motherfucking website. Why the fuck do you need to animate a fucking trendy-ass banner flag when I hover over that useless piece of shit? You spent hours on it and added 80 kilobytes to your fucking site, and some motherfucker jabbing at it on their iPad with fat sausage fingers will never see that shit. Not to mention blind people will never see that shit, but they don't see any of your shitty shit.\n",
      "  </p>\n",
      "  <p>\n",
      "   You never knew it, but this is your perfect website. Here's why.\n",
      "  </p>\n",
      "  <h2>\n",
      "   It's fucking lightweight\n",
      "  </h2>\n",
      "  <p>\n",
      "   This entire page weighs less than the gradient-meshed facebook logo on your fucking Wordpress site. Did you seriously load 100kb of jQuery UI just so you could animate the fucking background color of a div? You loaded all 7 fontfaces of a shitty webfont just so you could say \"Hi.\" at 100px height at the beginning of your site? You piece of shit.\n",
      "  </p>\n",
      "  <h2>\n",
      "   It's responsive\n",
      "  </h2>\n",
      "  <p>\n",
      "   You dumbass. You thought you needed media queries to be responsive, but no. Responsive means that it responds to whatever motherfucking screensize it's viewed on. This site doesn't care if you're on an iMac or a motherfucking Tamagotchi.\n",
      "  </p>\n",
      "  <h2>\n",
      "   It fucking works\n",
      "  </h2>\n",
      "  <p>\n",
      "   Look at this shit. You can read it ... that is, if you can read, motherfucker. It makes sense. It has motherfucking hierarchy. It's using HTML5 tags so you and your bitch-ass browser know what the fuck's in this fucking site. That's semantics, motherfucker.\n",
      "  </p>\n",
      "  <p>\n",
      "   It has content on the fucking screen. Your site has three bylines and link to your dribbble account, but you spread it over 7 full screens and make me click some bobbing button to show me how cool the jQuery ScrollTo plugin is.\n",
      "  </p>\n",
      "  <p>\n",
      "   Cross-browser compatibility? Load this motherfucker in IE6. I fucking dare you.\n",
      "  </p>\n",
      "  <h2>\n",
      "   This is a website. Look at it.  You've never seen one before.\n",
      "  </h2>\n",
      "  <p>\n",
      "   Like the man who's never grown out his beard has no idea what his true natural state is, you have no fucking idea what a website is. All you have ever seen are shitty skeuomorphic bastardizations of what should be text communicating a fucking message. This is a real, naked website. Look at it. It's fucking beautiful.\n",
      "  </p>\n",
      "  <h3>\n",
      "   Yes, this is fucking satire, you fuck\n",
      "  </h3>\n",
      "  <p>\n",
      "   I'm not actually saying your shitty site should look like this. What I'm saying is that all the problems we have with websites are\n",
      "   <strong>\n",
      "    ones we create ourselves\n",
      "   </strong>\n",
      "   . Websites aren't broken by default, they are functional, high-performing, and accessible. You break them. You son-of-a-bitch.\n",
      "  </p>\n",
      "  <blockquote cite=\"https://www.vitsoe.com/us/about/good-design\">\n",
      "   \"Good design is as little design as possible.\"\n",
      "   <br/>\n",
      "   - some German motherfucker\n",
      "  </blockquote>\n",
      "  <hr/>\n",
      "  <h2>\n",
      "   Epilogue\n",
      "  </h2>\n",
      "  <p>\n",
      "   From the philosophies expressed (poorly) above,\n",
      "   <a href=\"http://txti.es\">\n",
      "    txti\n",
      "   </a>\n",
      "   was created. You should try it today to make your own motherfucking websites.\n",
      "  </p>\n",
      "  <!-- yes, I know...wanna fight about it? -->\n",
      "  <script>\n",
      "   (function(i,s,o,g,r,a,m){i['GoogleAnalyticsObject']=r;i[r]=i[r]||function(){\n",
      "      (i[r].q=i[r].q||[]).push(arguments)},i[r].l=1*new Date();a=s.createElement(o),\n",
      "      m=s.getElementsByTagName(o)[0];a.async=1;a.src=g;m.parentNode.insertBefore(a,m)\n",
      "      })(window,document,'script','//www.google-analytics.com/analytics.js','ga');\n",
      "    \n",
      "      ga('create', 'UA-45956659-1', 'motherfuckingwebsite.com');\n",
      "      ga('send', 'pageview');\n",
      "  </script>\n",
      " </body>\n",
      "</html>\n"
     ]
    }
   ],
   "source": [
    "from bs4 import BeautifulSoup\n",
    "crawled = BeautifulSoup(page_content.text, 'html.parser')\n",
    "print(crawled.prettify())"
   ]
  },
  {
   "cell_type": "markdown",
   "metadata": {},
   "source": [
    "now it's literraly __Beautiful__ from the previous __Soup__....<br>\n",
    "😂"
   ]
  },
  {
   "cell_type": "markdown",
   "metadata": {},
   "source": [
    "## Finding and extracting 'a' particular Tag."
   ]
  },
  {
   "cell_type": "markdown",
   "metadata": {},
   "source": [
    "We can extract a single tag from a page by using Beautiful Soup’s <code>find_all</code> method. This will return all instances of a given tag within a document.<br><br>Running that method on our object returns the full text of the song along with the relevant 'p' tags and any tags contained within that requested tag, which here includes the line break tags 'br/':"
   ]
  },
  {
   "cell_type": "code",
   "execution_count": 10,
   "metadata": {},
   "outputs": [
    {
     "data": {
      "text/plain": [
       "[<p>You probably build websites and think your shit is special. You think your 13 megabyte parallax-ative home page is going to get you some fucking Awwward banner you can glue to the top corner of your site. You think your 40-pound jQuery file and 83 polyfills give IE7 a boner because it finally has box-shadow. Wrong, motherfucker. Let me describe your perfect-ass website:</p>,\n",
       " <p>You. Are. Over-designing. Look at this shit. It's a motherfucking website. Why the fuck do you need to animate a fucking trendy-ass banner flag when I hover over that useless piece of shit? You spent hours on it and added 80 kilobytes to your fucking site, and some motherfucker jabbing at it on their iPad with fat sausage fingers will never see that shit. Not to mention blind people will never see that shit, but they don't see any of your shitty shit.</p>,\n",
       " <p>You never knew it, but this is your perfect website. Here's why.</p>,\n",
       " <p>This entire page weighs less than the gradient-meshed facebook logo on your fucking Wordpress site. Did you seriously load 100kb of jQuery UI just so you could animate the fucking background color of a div? You loaded all 7 fontfaces of a shitty webfont just so you could say \"Hi.\" at 100px height at the beginning of your site? You piece of shit.</p>,\n",
       " <p>You dumbass. You thought you needed media queries to be responsive, but no. Responsive means that it responds to whatever motherfucking screensize it's viewed on. This site doesn't care if you're on an iMac or a motherfucking Tamagotchi.</p>,\n",
       " <p>Look at this shit. You can read it ... that is, if you can read, motherfucker. It makes sense. It has motherfucking hierarchy. It's using HTML5 tags so you and your bitch-ass browser know what the fuck's in this fucking site. That's semantics, motherfucker.</p>,\n",
       " <p>It has content on the fucking screen. Your site has three bylines and link to your dribbble account, but you spread it over 7 full screens and make me click some bobbing button to show me how cool the jQuery ScrollTo plugin is.</p>,\n",
       " <p>Cross-browser compatibility? Load this motherfucker in IE6. I fucking dare you.</p>,\n",
       " <p>Like the man who's never grown out his beard has no idea what his true natural state is, you have no fucking idea what a website is. All you have ever seen are shitty skeuomorphic bastardizations of what should be text communicating a fucking message. This is a real, naked website. Look at it. It's fucking beautiful.</p>,\n",
       " <p>I'm not actually saying your shitty site should look like this. What I'm saying is that all the problems we have with websites are <strong>ones we create ourselves</strong>. Websites aren't broken by default, they are functional, high-performing, and accessible. You break them. You son-of-a-bitch.</p>,\n",
       " <p>From the philosophies expressed (poorly) above, <a href=\"http://txti.es\">txti</a> was created. You should try it today to make your own motherfucking websites.</p>]"
      ]
     },
     "execution_count": 10,
     "metadata": {},
     "output_type": "execute_result"
    }
   ],
   "source": [
    "crawled.find_all('p')"
   ]
  },
  {
   "cell_type": "markdown",
   "metadata": {},
   "source": [
    "The output above that the data is contained in square brackets. This means it is a Python list data type.<br>\n",
    "\n",
    "Because it is a list, we can call a particular item within it and use the <code>get_text()</code> method to extract all the text from inside that tag.<br><br>\n",
    "So, suppose we want to extract the text from the sixth <code>p</code> tag in the page...we can easily do this by:"
   ]
  },
  {
   "cell_type": "code",
   "execution_count": 11,
   "metadata": {},
   "outputs": [
    {
     "data": {
      "text/plain": [
       "\"Look at this shit. You can read it ... that is, if you can read, motherfucker. It makes sense. It has motherfucking hierarchy. It's using HTML5 tags so you and your bitch-ass browser know what the fuck's in this fucking site. That's semantics, motherfucker.\""
      ]
     },
     "execution_count": 11,
     "metadata": {},
     "output_type": "execute_result"
    }
   ],
   "source": [
    "crawled.find_all('p')[5].get_text()"
   ]
  },
  {
   "cell_type": "markdown",
   "metadata": {},
   "source": [
    "### Now the real thing starts,\n",
    "# _(Actual)_ Data Scraping using BS and Python"
   ]
  },
  {
   "cell_type": "markdown",
   "metadata": {},
   "source": [
    "## Data"
   ]
  },
  {
   "cell_type": "markdown",
   "metadata": {},
   "source": [
    "I'll be working with data from the official website of the National Gallery of Art in the United States.<br>\n",
    "I would like to search the Index of Artists available via the Internet Archive’s Wayback Machine at the following URL:\n",
    "\n",
    "https://web.archive.org/web/20170131230332/https://www.nga.gov/collection/an.shtm"
   ]
  },
  {
   "cell_type": "markdown",
   "metadata": {},
   "source": [
    " From https://web.archive.org/web/20121007172927/http://www.nga.gov/collection/anM1.htm I want to get all artists' last names beginning with 'M'"
   ]
  },
  {
   "cell_type": "markdown",
   "metadata": {},
   "source": [
    "### let's start\n",
    "## Collecting and Parsing a Web Page"
   ]
  },
  {
   "cell_type": "code",
   "execution_count": 13,
   "metadata": {},
   "outputs": [],
   "source": [
    "import requests\n",
    "from bs4 import BeautifulSoup\n",
    "\n",
    "#getting contents of first page\n",
    "page = requests.get(\"https://web.archive.org/web/20121007172927/http://www.nga.gov/collection/anM1.htm\")\n",
    "artistic_soup = BeautifulSoup(page.text, 'html.parser')\n"
   ]
  },
  {
   "cell_type": "markdown",
   "metadata": {},
   "source": [
    "With our page collected, parsed, and set up as a BeautifulSoup object, we can move on to collecting the data that we would like."
   ]
  },
  {
   "cell_type": "markdown",
   "metadata": {},
   "source": [
    "## Pulling Text From a Web Page\n",
    "I’ll collect artists’ names and the relevant links available on the website. You may want to collect different data, such as the artists’ nationality and dates. Whatever data you would like to collect, you need to find out how it is described by the DOM of the web page."
   ]
  },
  {
   "cell_type": "markdown",
   "metadata": {},
   "source": [
    "From inspect(ing) element; We’ll see first that the table of names is within div tags where class=\"BodyText\". This is important to note so that we only search for text within this section of the web page. We also notice that the name Maar, Dora is in a link tag, since the name references a web page that describes the artist. So we will want to reference the _a_ tag for links. Each artist’s name is a reference to a link."
   ]
  },
  {
   "cell_type": "markdown",
   "metadata": {},
   "source": [
    "Let's use Beautiful Soup’s <code>find()</code> and <code>find_all()</code> methods in order to pull the text of the artists’ names from the BodyText _div_"
   ]
  },
  {
   "cell_type": "code",
   "execution_count": 25,
   "metadata": {},
   "outputs": [],
   "source": [
    "# Pull all text from the BodyText div\n",
    "artist_name_list = artistic_soup.find(class_='BodyText')\n",
    "\n",
    "# Pull text from all instances of <a> tag within BodyText div\n",
    "artist_name_list_items = artist_name_list.find_all('a')\n"
   ]
  },
  {
   "cell_type": "markdown",
   "metadata": {},
   "source": [
    "## Pulling the Contents from a Tag"
   ]
  },
  {
   "cell_type": "markdown",
   "metadata": {},
   "source": [
    "In order to access only the actual artists’ names, we’ll want to target the contents of the <b>a</b> tags rather than print out the entire link tag.\n",
    "\n",
    "We can do this with Beautiful Soup’s <code>.contents</code>, which will return the tag’s children as a Python list data type."
   ]
  },
  {
   "cell_type": "code",
   "execution_count": 27,
   "metadata": {},
   "outputs": [
    {
     "name": "stdout",
     "output_type": "stream",
     "text": [
      "https://web.archive.org/web/20121007172927/http://www.nga.gov/cgi-bin/tsearch?artistid=10865\n",
      "Maar, Dora\n",
      "https://web.archive.org/web/20121007172927/http://www.nga.gov/cgi-bin/tsearch?artistid=1352\n",
      "Mabuse, Jan\n",
      "https://web.archive.org/web/20121007172927/http://www.nga.gov/cgi-bin/tsearch?artistid=14550\n",
      "Mac Orlan, Pierre\n",
      "https://web.archive.org/web/20121007172927/http://www.nga.gov/cgi-bin/tsearch?artistid=4771\n",
      "MacArdell, James\n",
      "https://web.archive.org/web/20121007172927/http://www.nga.gov/cgi-bin/tsearch?artistid=4772\n",
      "MacCoy, Guy\n",
      "https://web.archive.org/web/20121007172927/http://www.nga.gov/cgi-bin/tsearch?artistid=4773\n",
      "MacDermott, David\n",
      "https://web.archive.org/web/20121007172927/http://www.nga.gov/cgi-bin/tsearch?artistid=4774\n",
      "MacDermott, Diane Conard\n",
      "https://web.archive.org/web/20121007172927/http://www.nga.gov/cgi-bin/tsearch?artistid=14611\n",
      "Macdonald-Wright, Stanton\n",
      "https://web.archive.org/web/20121007172927/http://www.nga.gov/cgi-bin/tsearch?artistid=7796\n",
      "Mace, Frank J.\n",
      "https://web.archive.org/web/20121007172927/http://www.nga.gov/cgi-bin/tsearch?artistid=34901\n",
      "MacEdwards, Barbara Chalmers\n",
      "https://web.archive.org/web/20121007172927/http://www.nga.gov/cgi-bin/tsearch?artistid=33736\n",
      "MacGilchrist, John\n",
      "https://web.archive.org/web/20121007172927/http://www.nga.gov/cgi-bin/tsearch?artistid=33737\n",
      "MacGowan, Clara\n",
      "https://web.archive.org/web/20121007172927/http://www.nga.gov/cgi-bin/tsearch?artistid=4775\n",
      "MacIver, Loren\n",
      "https://web.archive.org/web/20121007172927/http://www.nga.gov/cgi-bin/tsearch?artistid=33738\n",
      "Mack, Harry Francis\n",
      "https://web.archive.org/web/20121007172927/http://www.nga.gov/cgi-bin/tsearch?artistid=4776\n",
      "Mack, Warren Bryan\n",
      "https://web.archive.org/web/20121007172927/http://www.nga.gov/cgi-bin/tsearch?artistid=1502\n",
      "MacKay\n",
      "https://web.archive.org/web/20121007172927/http://www.nga.gov/cgi-bin/tsearch?artistid=21663\n",
      "Macke, August\n",
      "https://web.archive.org/web/20121007172927/http://www.nga.gov/cgi-bin/tsearch?artistid=33739\n",
      "MacKenzie, Roderick D.\n",
      "https://web.archive.org/web/20121007172927/http://www.nga.gov/cgi-bin/tsearch?artistid=33740\n",
      "Mackenzie, Warren\n",
      "https://web.archive.org/web/20121007172927/http://www.nga.gov/cgi-bin/tsearch?artistid=7797\n",
      "Macklem, Leslie\n",
      "https://web.archive.org/web/20121007172927/http://www.nga.gov/cgi-bin/tsearch?artistid=4777\n",
      "Mackstauer, Fred\n",
      "https://web.archive.org/web/20121007172927/http://www.nga.gov/cgi-bin/tsearch?artistid=14770\n",
      "Mackworth, H.\n",
      "https://web.archive.org/web/20121007172927/http://www.nga.gov/cgi-bin/tsearch?artistid=4778\n",
      "MacLaughlan, Donald Shaw\n",
      "https://web.archive.org/web/20121007172927/http://www.nga.gov/cgi-bin/tsearch?artistid=4779\n",
      "MacLeod, Alexander Samuel\n",
      "https://web.archive.org/web/20121007172927/http://www.nga.gov/cgi-bin/tsearch?artistid=4780\n",
      "MacLeod, William Douglas\n",
      "https://web.archive.org/web/20121007172927/http://www.nga.gov/cgi-bin/tsearch?artistid=10585\n",
      "MacLise, Angus\n",
      "https://web.archive.org/web/20121007172927/http://www.nga.gov/cgi-bin/tsearch?artistid=32740\n",
      "MacMonnies, Frederick William\n",
      "https://web.archive.org/web/20121007172927/http://www.nga.gov/cgi-bin/tsearch?artistid=6599\n",
      "MacNab, Iaian\n",
      "https://web.archive.org/web/20121007172927/http://www.nga.gov/cgi-bin/tsearch?artistid=35080\n",
      "Macpherson, Marie R.\n"
     ]
    }
   ],
   "source": [
    "# Use .contents to pull out the <a> tag’s children\n",
    "for artist_name in artist_name_list_items:\n",
    "    links = 'https://web.archive.org' + artist_name.get('href')\n",
    "    names = artist_name.contents[0]\n",
    "    print(links)\n",
    "    print(names)"
   ]
  },
  {
   "cell_type": "markdown",
   "metadata": {},
   "source": [
    "Added <br><code>links = 'https://web.archive.org' + artist_name.get('href')<br>print(links)</code><br>\n",
    "cause I wanted to also capture the URLs associated with those artists. I can extract URLs found within a page’s a tags by using Beautiful Soup’s get('href') method."
   ]
  },
  {
   "cell_type": "markdown",
   "metadata": {},
   "source": [
    "## Writing the Data to a CSV File (cool stuff)"
   ]
  },
  {
   "cell_type": "code",
   "execution_count": 33,
   "metadata": {},
   "outputs": [
    {
     "name": "stdout",
     "output_type": "stream",
     "text": [
      "Maar, Dora\n",
      "https://web.archive.org/web/20121007172927/http://www.nga.gov/cgi-bin/tsearch?artistid=10865\n",
      "Mabuse, Jan\n",
      "https://web.archive.org/web/20121007172927/http://www.nga.gov/cgi-bin/tsearch?artistid=1352\n",
      "Mac Orlan, Pierre\n",
      "https://web.archive.org/web/20121007172927/http://www.nga.gov/cgi-bin/tsearch?artistid=14550\n",
      "MacArdell, James\n",
      "https://web.archive.org/web/20121007172927/http://www.nga.gov/cgi-bin/tsearch?artistid=4771\n",
      "MacCoy, Guy\n",
      "https://web.archive.org/web/20121007172927/http://www.nga.gov/cgi-bin/tsearch?artistid=4772\n",
      "MacDermott, David\n",
      "https://web.archive.org/web/20121007172927/http://www.nga.gov/cgi-bin/tsearch?artistid=4773\n",
      "MacDermott, Diane Conard\n",
      "https://web.archive.org/web/20121007172927/http://www.nga.gov/cgi-bin/tsearch?artistid=4774\n",
      "Macdonald-Wright, Stanton\n",
      "https://web.archive.org/web/20121007172927/http://www.nga.gov/cgi-bin/tsearch?artistid=14611\n",
      "Mace, Frank J.\n",
      "https://web.archive.org/web/20121007172927/http://www.nga.gov/cgi-bin/tsearch?artistid=7796\n",
      "MacEdwards, Barbara Chalmers\n",
      "https://web.archive.org/web/20121007172927/http://www.nga.gov/cgi-bin/tsearch?artistid=34901\n",
      "MacGilchrist, John\n",
      "https://web.archive.org/web/20121007172927/http://www.nga.gov/cgi-bin/tsearch?artistid=33736\n",
      "MacGowan, Clara\n",
      "https://web.archive.org/web/20121007172927/http://www.nga.gov/cgi-bin/tsearch?artistid=33737\n",
      "MacIver, Loren\n",
      "https://web.archive.org/web/20121007172927/http://www.nga.gov/cgi-bin/tsearch?artistid=4775\n",
      "Mack, Harry Francis\n",
      "https://web.archive.org/web/20121007172927/http://www.nga.gov/cgi-bin/tsearch?artistid=33738\n",
      "Mack, Warren Bryan\n",
      "https://web.archive.org/web/20121007172927/http://www.nga.gov/cgi-bin/tsearch?artistid=4776\n",
      "MacKay\n",
      "https://web.archive.org/web/20121007172927/http://www.nga.gov/cgi-bin/tsearch?artistid=1502\n",
      "Macke, August\n",
      "https://web.archive.org/web/20121007172927/http://www.nga.gov/cgi-bin/tsearch?artistid=21663\n",
      "MacKenzie, Roderick D.\n",
      "https://web.archive.org/web/20121007172927/http://www.nga.gov/cgi-bin/tsearch?artistid=33739\n",
      "Mackenzie, Warren\n",
      "https://web.archive.org/web/20121007172927/http://www.nga.gov/cgi-bin/tsearch?artistid=33740\n",
      "Macklem, Leslie\n",
      "https://web.archive.org/web/20121007172927/http://www.nga.gov/cgi-bin/tsearch?artistid=7797\n",
      "Mackstauer, Fred\n",
      "https://web.archive.org/web/20121007172927/http://www.nga.gov/cgi-bin/tsearch?artistid=4777\n",
      "Mackworth, H.\n",
      "https://web.archive.org/web/20121007172927/http://www.nga.gov/cgi-bin/tsearch?artistid=14770\n",
      "MacLaughlan, Donald Shaw\n",
      "https://web.archive.org/web/20121007172927/http://www.nga.gov/cgi-bin/tsearch?artistid=4778\n",
      "MacLeod, Alexander Samuel\n",
      "https://web.archive.org/web/20121007172927/http://www.nga.gov/cgi-bin/tsearch?artistid=4779\n",
      "MacLeod, William Douglas\n",
      "https://web.archive.org/web/20121007172927/http://www.nga.gov/cgi-bin/tsearch?artistid=4780\n",
      "MacLise, Angus\n",
      "https://web.archive.org/web/20121007172927/http://www.nga.gov/cgi-bin/tsearch?artistid=10585\n",
      "MacMonnies, Frederick William\n",
      "https://web.archive.org/web/20121007172927/http://www.nga.gov/cgi-bin/tsearch?artistid=32740\n",
      "MacNab, Iaian\n",
      "https://web.archive.org/web/20121007172927/http://www.nga.gov/cgi-bin/tsearch?artistid=6599\n",
      "Macpherson, Marie R.\n",
      "https://web.archive.org/web/20121007172927/http://www.nga.gov/cgi-bin/tsearch?artistid=35080\n",
      "Mac-Mai\n",
      "https://web.archive.org/web/20121007172927/http://www.nga.gov/collection/anM2.htm\n",
      "Mai-Mal\n",
      "https://web.archive.org/web/20121007172927/http://www.nga.gov/collection/anM3.htm\n",
      "Mal-Man\n",
      "https://web.archive.org/web/20121007172927/http://www.nga.gov/collection/anM4.htm\n",
      "Man-Man\n",
      "https://web.archive.org/web/20121007172927/http://www.nga.gov/collection/anM5.htm\n",
      "Man-Mar\n",
      "https://web.archive.org/web/20121007172927/http://www.nga.gov/collection/anM6.htm\n",
      "Mar-Mar\n",
      "https://web.archive.org/web/20121007172927/http://www.nga.gov/collection/anM7.htm\n",
      "Mar-Mar\n",
      "https://web.archive.org/web/20121007172927/http://www.nga.gov/collection/anM8.htm\n",
      "Mar-Mar\n",
      "https://web.archive.org/web/20121007172927/http://www.nga.gov/collection/anM9.htm\n",
      "Mar-Mar\n",
      "https://web.archive.org/web/20121007172927/http://www.nga.gov/collection/anM10.htm\n",
      "Mar-Mas\n",
      "https://web.archive.org/web/20121007172927/http://www.nga.gov/collection/anM11.htm\n",
      "Mas-Mas\n",
      "https://web.archive.org/web/20121007172927/http://www.nga.gov/collection/anM12.htm\n",
      "Mas-Mas\n",
      "https://web.archive.org/web/20121007172927/http://www.nga.gov/collection/anM13.htm\n",
      "Mas-Mas\n",
      "https://web.archive.org/web/20121007172927/http://www.nga.gov/collection/anM14.htm\n",
      "Mas-Mas\n",
      "https://web.archive.org/web/20121007172927/http://www.nga.gov/collection/anM15.htm\n",
      "Mas-Mas\n",
      "https://web.archive.org/web/20121007172927/http://www.nga.gov/collection/anM16.htm\n",
      "Mas-Mas\n",
      "https://web.archive.org/web/20121007172927/http://www.nga.gov/collection/anM17.htm\n",
      "Mas-Mat\n",
      "https://web.archive.org/web/20121007172927/http://www.nga.gov/collection/anM18.htm\n",
      "Mat-Mau\n",
      "https://web.archive.org/web/20121007172927/http://www.nga.gov/collection/anM19.htm\n",
      "Mau-Maz\n",
      "https://web.archive.org/web/20121007172927/http://www.nga.gov/collection/anM20.htm\n",
      "Maz-McC\n",
      "https://web.archive.org/web/20121007172927/http://www.nga.gov/collection/anM21.htm\n",
      "McC-McK\n",
      "https://web.archive.org/web/20121007172927/http://www.nga.gov/collection/anM22.htm\n",
      "McK-Mec\n",
      "https://web.archive.org/web/20121007172927/http://www.nga.gov/collection/anM23.htm\n",
      "Mec-Mei\n",
      "https://web.archive.org/web/20121007172927/http://www.nga.gov/collection/anM24.htm\n",
      "Mei-Mem\n",
      "https://web.archive.org/web/20121007172927/http://www.nga.gov/collection/anM25.htm\n",
      "Men-Mer\n",
      "https://web.archive.org/web/20121007172927/http://www.nga.gov/collection/anM26.htm\n",
      "Mer-Mes\n",
      "https://web.archive.org/web/20121007172927/http://www.nga.gov/collection/anM27.htm\n",
      "Mes-Mey\n",
      "https://web.archive.org/web/20121007172927/http://www.nga.gov/collection/anM28.htm\n",
      "Mey-Mic\n",
      "https://web.archive.org/web/20121007172927/http://www.nga.gov/collection/anM29.htm\n",
      "Mic-Mil\n",
      "https://web.archive.org/web/20121007172927/http://www.nga.gov/collection/anM30.htm\n",
      "Mil-Mil\n",
      "https://web.archive.org/web/20121007172927/http://www.nga.gov/collection/anM31.htm\n",
      "Mil-Min\n",
      "https://web.archive.org/web/20121007172927/http://www.nga.gov/collection/anM32.htm\n",
      "Min-Miz\n",
      "https://web.archive.org/web/20121007172927/http://www.nga.gov/collection/anM33.htm\n",
      "Miz-Mol\n",
      "https://web.archive.org/web/20121007172927/http://www.nga.gov/collection/anM34.htm\n",
      "Mol-Mon\n",
      "https://web.archive.org/web/20121007172927/http://www.nga.gov/collection/anM35.htm\n",
      "Mon-Mon\n",
      "https://web.archive.org/web/20121007172927/http://www.nga.gov/collection/anM36.htm\n",
      "Mon-Moo\n",
      "https://web.archive.org/web/20121007172927/http://www.nga.gov/collection/anM37.htm\n",
      "Moo-Mor\n",
      "https://web.archive.org/web/20121007172927/http://www.nga.gov/collection/anM38.htm\n",
      "Mor-Mor\n",
      "https://web.archive.org/web/20121007172927/http://www.nga.gov/collection/anM39.htm\n",
      "Mor-Mor\n",
      "https://web.archive.org/web/20121007172927/http://www.nga.gov/collection/anM40.htm\n",
      "Mor-Mos\n",
      "https://web.archive.org/web/20121007172927/http://www.nga.gov/collection/anM41.htm\n",
      "Mos-Mox\n",
      "https://web.archive.org/web/20121007172927/http://www.nga.gov/collection/anM42.htm\n",
      "Mox-Mul\n",
      "https://web.archive.org/web/20121007172927/http://www.nga.gov/collection/anM43.htm\n",
      "Mul-Mün\n",
      "https://web.archive.org/web/20121007172927/http://www.nga.gov/collection/anM44.htm\n",
      "Mun-Mus\n",
      "https://web.archive.org/web/20121007172927/http://www.nga.gov/collection/anM45.htm\n",
      "Mus-Mzy\n",
      "https://web.archive.org/web/20121007172927/http://www.nga.gov/collection/anM46.htm\n"
     ]
    }
   ],
   "source": [
    "# total code till now...\n",
    "import requests\n",
    "import csv\n",
    "from bs4 import BeautifulSoup\n",
    "\n",
    "#getting contents of first page\n",
    "page = requests.get(\"https://web.archive.org/web/20121007172927/http://www.nga.gov/collection/anM1.htm\")\n",
    "artistic_soup = BeautifulSoup(page.text, 'html.parser')\n",
    "\n",
    "# Create a file to write to, add headers row\n",
    "f = csv.writer(open('artist-names.csv', 'w'))\n",
    "f.writerow(['Name of the Artist', 'Official Link'])\n",
    "\n",
    "# Pull all text from the BodyText div\n",
    "artist_name_list = artistic_soup.find(class_='BodyText')\n",
    "\n",
    "# Pull text from all instances of <a> tag within BodyText div\n",
    "artist_name_list_items = artist_name_list.find_all('a')\n",
    "\n",
    "# Use .contents to pull out the <a> tag’s children\n",
    "for artist_name in artist_name_list_items:\n",
    "    links = 'https://web.archive.org' + artist_name.get('href')\n",
    "    names = artist_name.contents[0]\n",
    "    print(names)\n",
    "    print(links)\n",
    "    f.writerow([names, links])"
   ]
  },
  {
   "cell_type": "markdown",
   "metadata": {},
   "source": []
  }
 ],
 "metadata": {
  "kernelspec": {
   "display_name": "Python 3",
   "language": "python",
   "name": "python3"
  },
  "language_info": {
   "codemirror_mode": {
    "name": "ipython",
    "version": 3
   },
   "file_extension": ".py",
   "mimetype": "text/x-python",
   "name": "python",
   "nbconvert_exporter": "python",
   "pygments_lexer": "ipython3",
   "version": "3.7.1"
  }
 },
 "nbformat": 4,
 "nbformat_minor": 2
}
